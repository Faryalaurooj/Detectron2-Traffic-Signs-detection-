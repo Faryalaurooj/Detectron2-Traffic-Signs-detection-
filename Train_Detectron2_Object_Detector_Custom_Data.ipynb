{
  "cells": [
    {
      "cell_type": "markdown",
      "metadata": {
        "id": "-GIYjVIA96Ne"
      },
      "source": [
        "### Connect Google Drive"
      ]
    },
    {
      "cell_type": "code",
      "execution_count": null,
      "metadata": {
        "id": "-wxgALmBx6Rj"
      },
      "outputs": [],
      "source": [
        "from google.colab import drive\n",
        "\n",
        "drive.mount('/content/gdrive')"
      ]
    },
    {
      "cell_type": "markdown",
      "metadata": {
        "id": "D9ZsFr6--Lxg"
      },
      "source": [
        "### Install requirements"
      ]
    },
    {
      "cell_type": "code",
      "execution_count": null,
      "metadata": {
        "id": "xWh477fIw_al"
      },
      "outputs": [],
      "source": [
        "!pip install torch==2.0.0\n",
        "!pip install torchvision==0.15.1\n",
        "!pip install opencv-python==4.6.0.66\n",
        "!pip install matplotlib==3.5.3\n",
        "!pip install git+https://github.com/facebookresearch/detectron2.git\n"
      ]
    },
    {
      "cell_type": "markdown",
      "metadata": {
        "id": "q1PMCpJK-QNH"
      },
      "source": [
        "### Change working directory"
      ]
    },
    {
      "cell_type": "code",
      "execution_count": null,
      "metadata": {
        "id": "La68ZGbq0Qni"
      },
      "outputs": [],
      "source": [
        "%cd /content/gdrive/MyDrive/ComputerVisionEngineer/TrainDetectron2ObjectDetector/"
      ]
    },
    {
      "cell_type": "markdown",
      "metadata": {
        "id": "3chYfIWs-Sqa"
      },
      "source": [
        "### Train !"
      ]
    },
    {
      "cell_type": "code",
      "execution_count": null,
      "metadata": {
        "id": "5xDV20jH0mzk"
      },
      "outputs": [],
      "source": [
        "!python train.py --device gpu --learning-rate 0.00001 --iterations 6000"
      ]
    }
  ],
  "metadata": {
    "accelerator": "GPU",
    "colab": {
      "provenance": []
    },
    "gpuClass": "standard",
    "kernelspec": {
      "display_name": "Python 3",
      "name": "python3"
    },
    "language_info": {
      "name": "python",
      "version": "3.9.5"
    }
  },
  "nbformat": 4,
  "nbformat_minor": 0
}
